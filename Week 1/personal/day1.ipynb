{
 "cells": [
  {
   "cell_type": "code",
   "execution_count": 1,
   "metadata": {},
   "outputs": [
    {
     "name": "stdout",
     "output_type": "stream",
     "text": [
      "hello world\n"
     ]
    }
   ],
   "source": [
    "print(\"hello world\")"
   ]
  },
  {
   "cell_type": "code",
   "execution_count": 2,
   "metadata": {},
   "outputs": [
    {
     "name": "stdout",
     "output_type": "stream",
     "text": [
      "hiiii\n"
     ]
    }
   ],
   "source": [
    "print(\"hiiii\")"
   ]
  },
  {
   "cell_type": "markdown",
   "metadata": {},
   "source": [
    "input and variables"
   ]
  },
  {
   "cell_type": "code",
   "execution_count": 7,
   "metadata": {},
   "outputs": [
    {
     "name": "stdout",
     "output_type": "stream",
     "text": [
      "hiishristi\n"
     ]
    }
   ],
   "source": [
    "person_name=input(\"what is your name?\")\n",
    "print(\"hii\"+ person_name)"
   ]
  },
  {
   "cell_type": "markdown",
   "metadata": {},
   "source": [
    "##basic data types\n",
    "1)int- integer\n",
    "2)str- string\n",
    "3)float-float\n",
    "4)none-null\n",
    "5)bool- boolean(true,false)"
   ]
  },
  {
   "cell_type": "code",
   "execution_count": 10,
   "metadata": {},
   "outputs": [
    {
     "name": "stdout",
     "output_type": "stream",
     "text": [
      "<class 'int'>\n"
     ]
    }
   ],
   "source": [
    "number=1\n",
    "#print(number)\n",
    "print(type(number))\n",
    "#person=\"shristi\""
   ]
  },
  {
   "cell_type": "code",
   "execution_count": 11,
   "metadata": {},
   "outputs": [
    {
     "name": "stdout",
     "output_type": "stream",
     "text": [
      "<class 'float'>\n"
     ]
    }
   ],
   "source": [
    "number=1.0\n",
    "print(type(number))"
   ]
  },
  {
   "cell_type": "code",
   "execution_count": 13,
   "metadata": {},
   "outputs": [
    {
     "name": "stdout",
     "output_type": "stream",
     "text": [
      "False\n"
     ]
    }
   ],
   "source": [
    "#==boolean\n",
    "print(1==2)"
   ]
  },
  {
   "cell_type": "code",
   "execution_count": 16,
   "metadata": {},
   "outputs": [
    {
     "name": "stdout",
     "output_type": "stream",
     "text": [
      "<class 'float'>\n"
     ]
    }
   ],
   "source": [
    "age=input(\"what is your age?\")\n",
    "#print(age) string vanera aauxa,,, string + string milxa jodna\\\\\\tara int+string hunna\n",
    "age=float(age)\n",
    "print(type(age))"
   ]
  },
  {
   "cell_type": "code",
   "execution_count": 17,
   "metadata": {},
   "outputs": [
    {
     "name": "stdout",
     "output_type": "stream",
     "text": [
      "your age is 14\n"
     ]
    }
   ],
   "source": [
    "age=input(\"what is your age?\")\n",
    "int_age=int(age)\n",
    "\n",
    "print('your age is', str(int_age))  #str is necessary"
   ]
  },
  {
   "cell_type": "markdown",
   "metadata": {},
   "source": [
    "day2"
   ]
  },
  {
   "cell_type": "markdown",
   "metadata": {},
   "source": [
    "control flow statements"
   ]
  },
  {
   "cell_type": "markdown",
   "metadata": {},
   "source": [
    "for driving locense\n",
    "1. input users age\n",
    "2. convert users age to integer\n",
    "3. check if user is older than 16 years old\n",
    "4. if user is older, show he is eligible else he is not"
   ]
  },
  {
   "cell_type": "code",
   "execution_count": 1,
   "metadata": {},
   "outputs": [
    {
     "name": "stdout",
     "output_type": "stream",
     "text": [
      "you are old enough to frive\n"
     ]
    }
   ],
   "source": [
    "#get users age\n",
    "age_str=input(\"what is your age?\")\n",
    "#convert string to integer\n",
    "age=int(age_str)\n",
    "if age>=16:\n",
    "    print('you are old enough to drive')\n",
    "else:\n",
    "    print(\"you are not old enought to drive\")\n",
    "    "
   ]
  },
  {
   "cell_type": "code",
   "execution_count": 2,
   "metadata": {},
   "outputs": [
    {
     "name": "stdout",
     "output_type": "stream",
     "text": [
      "welcome\n"
     ]
    }
   ],
   "source": [
    "#login system\n",
    "username=input(\"name?\")\n",
    "password=input(\"enter password?\")\n",
    "if username=='duck' and password=='passw0rd':\n",
    "    print(\"you logged in\")\n",
    "elif username=='shristi' and password=='123':\n",
    "    print('welcome')\n",
    "else:\n",
    "    print('invalid')\n",
    "\n"
   ]
  },
  {
   "cell_type": "markdown",
   "metadata": {},
   "source": [
    "##looping statement\n"
   ]
  },
  {
   "cell_type": "code",
   "execution_count": 4,
   "metadata": {},
   "outputs": [
    {
     "name": "stdout",
     "output_type": "stream",
     "text": [
      "5\n",
      "6\n",
      "7\n",
      "8\n",
      "9\n",
      "10\n"
     ]
    }
   ],
   "source": [
    "for i in range(5,11):\n",
    "    print(i)"
   ]
  },
  {
   "cell_type": "code",
   "execution_count": null,
   "metadata": {},
   "outputs": [],
   "source": [
    "#odd even\n",
    "for i in range(10):\n",
    "    if i%2==0:\n",
    "        print('is even')\n",
    "    else:\n",
    "        print('odd') \n"
   ]
  },
  {
   "cell_type": "code",
   "execution_count": null,
   "metadata": {},
   "outputs": [],
   "source": [
    "for i in range(10,1,-1):"
   ]
  },
  {
   "cell_type": "markdown",
   "metadata": {},
   "source": [
    "day3"
   ]
  },
  {
   "cell_type": "markdown",
   "metadata": {},
   "source": [
    "1. generate a random number  //10\n",
    "2. take input from user(int) //8\n",
    "3. compare the number:\n",
    "    lower-> the number is lower\n",
    "    greater-> the number is greater\n",
    "\n",
    "random number generator\n",
    "user input function\n",
    "give user 3 gueses\n",
    "check if the number is exactly the same->game end\n",
    "check greater or smaller\n",
    "end\n",
    "import random\n",
    "\n",
    "code part:\n"
   ]
  },
  {
   "cell_type": "code",
   "execution_count": 17,
   "metadata": {},
   "outputs": [
    {
     "name": "stdout",
     "output_type": "stream",
     "text": [
      "**************************************************\n",
      "your guess is smaller\n",
      "**************************************************\n",
      "**************************************************\n",
      "your guess is smaller\n",
      "**************************************************\n",
      "**************************************************\n",
      "your guess is smaller\n",
      "**************************************************\n"
     ]
    }
   ],
   "source": [
    "import random\n",
    "random_number= random.randint(1,10)\n",
    "guess=int(input('enter your 1st guess'))\n",
    "#the variable which doesnot value is called underscore\n",
    "for _ in range(3):\n",
    "    if guess==random_number:\n",
    "        print('*'*50)\n",
    "        print(f\"Horray!!! you got the correct guess in {i+1} tries\")\n",
    "        print('*'*50)\n",
    "        ##f string,, *50 to print required number,, random and its function\n",
    "    elif guess > random_number:\n",
    "        print('*'*50)\n",
    "        print(\"your guess is greater\")\n",
    "        print('*'*50)\n",
    "    elif guess < random_number:  \n",
    "        print('*'*50)\n",
    "        print(\"your guess is smaller\")\n",
    "        print('*'*50)"
   ]
  },
  {
   "cell_type": "code",
   "execution_count": 2,
   "metadata": {},
   "outputs": [
    {
     "name": "stdout",
     "output_type": "stream",
     "text": [
      "1\n",
      "2\n",
      "fizz\n",
      "4\n",
      "buzz\n",
      "fizz\n",
      "7\n",
      "8\n",
      "fizz\n",
      "buzz\n",
      "11\n",
      "fizz\n",
      "13\n",
      "14\n",
      "fixxbuzz\n",
      "16\n",
      "17\n",
      "fizz\n",
      "19\n",
      "buzz\n",
      "fizz\n",
      "22\n",
      "23\n",
      "fizz\n",
      "buzz\n",
      "26\n",
      "fizz\n",
      "28\n",
      "29\n",
      "fixxbuzz\n",
      "31\n",
      "32\n",
      "fizz\n",
      "34\n",
      "buzz\n",
      "fizz\n",
      "37\n",
      "38\n",
      "fizz\n",
      "buzz\n",
      "41\n",
      "fizz\n",
      "43\n",
      "44\n",
      "fixxbuzz\n",
      "46\n",
      "47\n",
      "fizz\n",
      "49\n",
      "buzz\n",
      "fizz\n",
      "52\n",
      "53\n",
      "fizz\n",
      "buzz\n",
      "56\n",
      "fizz\n",
      "58\n",
      "59\n",
      "fixxbuzz\n",
      "61\n",
      "62\n",
      "fizz\n",
      "64\n",
      "buzz\n",
      "fizz\n",
      "67\n",
      "68\n",
      "fizz\n",
      "buzz\n",
      "71\n",
      "fizz\n",
      "73\n",
      "74\n",
      "fixxbuzz\n",
      "76\n",
      "77\n",
      "fizz\n",
      "79\n",
      "buzz\n",
      "fizz\n",
      "82\n",
      "83\n",
      "fizz\n",
      "buzz\n",
      "86\n",
      "fizz\n",
      "88\n",
      "89\n",
      "fixxbuzz\n",
      "91\n",
      "92\n",
      "fizz\n",
      "94\n",
      "buzz\n",
      "fizz\n",
      "97\n",
      "98\n",
      "fizz\n"
     ]
    }
   ],
   "source": [
    "for i in range(1,100):\n",
    "    \n",
    "    if i%5 == 0 and i%3 == 0:\n",
    "        print('fixxbuzz')\n",
    "    elif i%3 == 0:\n",
    "        print('fizz')\n",
    "    elif i%5 == 0:\n",
    "        print('buzz')\n",
    "    else:\n",
    "        print(i)"
   ]
  },
  {
   "cell_type": "markdown",
   "metadata": {},
   "source": [
    "list and tupple"
   ]
  },
  {
   "cell_type": "markdown",
   "metadata": {},
   "source": [
    "mentor_names=\"shristi\"\n",
    "mentor2=\"pawan\"\n",
    "mentor names=[\"shristi\",\"ankita\"] \n"
   ]
  },
  {
   "cell_type": "code",
   "execution_count": 5,
   "metadata": {},
   "outputs": [
    {
     "name": "stdout",
     "output_type": "stream",
     "text": [
      "['shristi', 'ankita']\n",
      "ankita\n"
     ]
    }
   ],
   "source": [
    "mentor_names=[\"shristi\",\"ankita\"] \n",
    "print(mentor_names)\n",
    "print(mentor_names[1])"
   ]
  },
  {
   "cell_type": "code",
   "execution_count": 10,
   "metadata": {},
   "outputs": [
    {
     "name": "stdout",
     "output_type": "stream",
     "text": [
      "ankita\n",
      "['ankita']\n"
     ]
    },
    {
     "ename": "IndexError",
     "evalue": "pop index out of range",
     "output_type": "error",
     "traceback": [
      "\u001b[1;31m---------------------------------------------------------------------------\u001b[0m",
      "\u001b[1;31mIndexError\u001b[0m                                Traceback (most recent call last)",
      "Cell \u001b[1;32mIn[10], line 7\u001b[0m\n\u001b[0;32m      5\u001b[0m \u001b[39m#add something to list\u001b[39;00m\n\u001b[0;32m      6\u001b[0m \u001b[39mprint\u001b[39m(mentor_names)\n\u001b[1;32m----> 7\u001b[0m mentor_names\u001b[39m.\u001b[39;49mpop(\u001b[39m1\u001b[39;49m)\n\u001b[0;32m      8\u001b[0m \u001b[39mprint\u001b[39m(mentor_names)\n",
      "\u001b[1;31mIndexError\u001b[0m: pop index out of range"
     ]
    }
   ],
   "source": [
    "#for i in range(100)\n",
    "for mentor in mentor_names:\n",
    "    print(mentor)\n",
    "    \n",
    "#add something to list\n",
    "print(mentor_names)\n",
    "mentor_names.pop(1)\n",
    "print(mentor_names)\n"
   ]
  },
  {
   "cell_type": "markdown",
   "metadata": {},
   "source": [
    "list is mutable, we can change things in this variable\n",
    "string is always immutable"
   ]
  },
  {
   "cell_type": "markdown",
   "metadata": {},
   "source": [
    "Method\tDescription\n",
    "append()\tAdds an element at the end of the list\n",
    "clear()\tRemoves all the elements from the list\n",
    "copy()\tReturns a copy of the list\n",
    "count()\tReturns the number of elements with the specified value\n",
    "extend()\tAdd the elements of a list (or any iterable), to the end of the current list\n",
    "index()\tReturns the index of the first element with the specified value\n",
    "insert()\tAdds an element at the specified position\n",
    "pop()\tRemoves the element at the specified position\n",
    "remove()\tRemoves the first item with the specified value\n",
    "reverse()\tReverses the order of the list\n",
    "sort()\tSorts the list"
   ]
  },
  {
   "cell_type": "markdown",
   "metadata": {},
   "source": [
    "yo table markdoen ma haldeu la\n",
    "<table class=\"ws-table-all notranslate\">\n",
    "<tbody><tr>\n",
    "<th>Method</th>\n",
    "<th>Description</th>\n",
    "</tr>\n",
    "<tr><td><a href=\"ref_list_append.asp\">append()</a></td><td>Adds an element at \n",
    "  the end of the list</td></tr>\n",
    "<tr><td><a href=\"ref_list_clear.asp\">clear()</a></td><td>Removes all the \n",
    "  elements from the list</td></tr>\n",
    "<tr><td><a href=\"ref_list_copy.asp\">copy()</a></td><td>Returns a copy of the \n",
    "  list</td></tr>\n",
    "<tr><td><a href=\"ref_list_count.asp\">count()</a></td><td>Returns the number of \n",
    "  element"
   ]
  },
  {
   "cell_type": "markdown",
   "metadata": {},
   "source": [
    "Method\tDescription\n",
    "append()\tAdds an element at the end of the list\n",
    "clear()\tRemoves all the elements from the list\n",
    "copy()\tReturns a copy of the list\n",
    "count()\tReturns the number of elements with the specified value\n",
    "extend()\tAdd the elements of a list (or any iterable), to the end of the current list\n",
    "index()\tReturns the index of the first element with the specified value\n",
    "insert()\tAdds an element at the specified position\n",
    "pop()\tRemoves the element at the specified position\n",
    "remove()\tRemoves the first"
   ]
  },
  {
   "cell_type": "markdown",
   "metadata": {},
   "source": [
    "list, list vs tuple, pop,append"
   ]
  },
  {
   "cell_type": "markdown",
   "metadata": {},
   "source": [
    "list vs tuple\n",
    "list\n",
    "more space\n",
    "1. initialization-\n",
    "banairana paiyo pop insert\n",
    "\n",
    "tuple\n",
    "list chiya xaina vane we can use tupple\n",
    "initialization-['something', 'something']\n",
    "after its being set we cannot append sort insert garna mildeina"
   ]
  },
  {
   "cell_type": "markdown",
   "metadata": {},
   "source": [
    "tupple\n",
    "rainbow_colors=('red','violet','green','blue','yellow','indigo','orange')\n",
    "\n",
    "list as a iterable"
   ]
  },
  {
   "cell_type": "code",
   "execution_count": 4,
   "metadata": {},
   "outputs": [
    {
     "name": "stdout",
     "output_type": "stream",
     "text": [
      "red\n",
      "violet\n",
      "green\n",
      "blue\n",
      "yellow\n",
      "indigo\n",
      "orange\n"
     ]
    }
   ],
   "source": [
    "rainbow_colors=('red','violet','green','blue','yellow','indigo','orange')\n",
    "for color in rainbow_colors:\n",
    "    print(color)"
   ]
  },
  {
   "cell_type": "code",
   "execution_count": 3,
   "metadata": {},
   "outputs": [
    {
     "ename": "NameError",
     "evalue": "name 'rainbow_colors' is not defined",
     "output_type": "error",
     "traceback": [
      "\u001b[1;31m---------------------------------------------------------------------------\u001b[0m",
      "\u001b[1;31mNameError\u001b[0m                                 Traceback (most recent call last)",
      "Cell \u001b[1;32mIn[3], line 1\u001b[0m\n\u001b[1;32m----> 1\u001b[0m index\u001b[39m=\u001b[39mrainbow_colors\u001b[39m.\u001b[39mindex(\u001b[39m'\u001b[39m\u001b[39mred\u001b[39m\u001b[39m'\u001b[39m) \u001b[39m#tuple\u001b[39;00m\n\u001b[0;32m      2\u001b[0m \u001b[39mprint\u001b[39m(index)\n\u001b[0;32m      3\u001b[0m \u001b[39m#length bon list on tuple len()\u001b[39;00m\n",
      "\u001b[1;31mNameError\u001b[0m: name 'rainbow_colors' is not defined"
     ]
    }
   ],
   "source": [
    "index=rainbow_colors.index('red') #tuple\n",
    "print(index)\n",
    "#length bon list on tuple len()\n",
    "print(len(rainbow_colors))\n"
   ]
  },
  {
   "cell_type": "markdown",
   "metadata": {},
   "source": [
    "dictionary"
   ]
  },
  {
   "cell_type": "markdown",
   "metadata": {},
   "source": [
    "key- value\n",
    "##example\n",
    "login system\n",
    "\n",
    "dictionary is mutable"
   ]
  },
  {
   "cell_type": "code",
   "execution_count": 2,
   "metadata": {},
   "outputs": [
    {
     "ename": "NameError",
     "evalue": "name 'random' is not defined",
     "output_type": "error",
     "traceback": [
      "\u001b[1;31m---------------------------------------------------------------------------\u001b[0m",
      "\u001b[1;31mNameError\u001b[0m                                 Traceback (most recent call last)",
      "Cell \u001b[1;32mIn[2], line 1\u001b[0m\n\u001b[1;32m----> 1\u001b[0m user_pass\u001b[39m=\u001b[39m{\u001b[39m'\u001b[39m\u001b[39mduck\u001b[39m\u001b[39m'\u001b[39m:\u001b[39m'\u001b[39m\u001b[39mpond\u001b[39m\u001b[39m'\u001b[39m,\u001b[39m'\u001b[39m\u001b[39mchicken\u001b[39m\u001b[39m'\u001b[39m:\u001b[39m'\u001b[39m\u001b[39megg\u001b[39m\u001b[39m'\u001b[39m,\u001b[39m'\u001b[39m\u001b[39mrandom\u001b[39m\u001b[39m'\u001b[39m:random}\n\u001b[0;32m      2\u001b[0m \u001b[39m#print(user_pass.get('abc'))\u001b[39;00m\n\u001b[0;32m      3\u001b[0m \u001b[39mprint\u001b[39m(user_pass[\u001b[39m'\u001b[39m\u001b[39mchicken\u001b[39m\u001b[39m'\u001b[39m])\n",
      "\u001b[1;31mNameError\u001b[0m: name 'random' is not defined"
     ]
    }
   ],
   "source": [
    "user_pass={'duck':'pond','chicken':'egg','random':random}\n",
    "#print(user_pass.get('abc'))\n",
    "print(user_pass['chicken'])"
   ]
  },
  {
   "cell_type": "markdown",
   "metadata": {},
   "source": [
    "dictionary:replacing the values using .keys function,,\n",
    ".item\n",
    ".pop, .del\n",
    "login system\n",
    "\n",
    "rock paper scissor\n",
    "\n"
   ]
  },
  {
   "attachments": {},
   "cell_type": "markdown",
   "metadata": {},
   "source": [
    "input rock scissor paper\n",
    "\n",
    "\n",
    "rock rock== tie\n",
    "scissor scissor==tie\n",
    "paper paper==tie\n",
    "scissor paper==scissor win\n",
    "rock scissor==rock wins\n",
    "rock paper==paper wins"
   ]
  },
  {
   "cell_type": "code",
   "execution_count": 37,
   "metadata": {},
   "outputs": [
    {
     "name": "stdout",
     "output_type": "stream",
     "text": [
      "lets start our game\n",
      "tie\n"
     ]
    }
   ],
   "source": [
    "print(\"lets start our game\")\n",
    "user1=input('choose betn three rock, scissor, paper')\n",
    "game=user1 \n",
    "user2=input('choose betn three rock, scissor, paper')\n",
    "game2=user2\n",
    "if game=='rock' and game2=='paper':\n",
    "    print('paper win')\n",
    "elif game=='paper' and game2=='rock':\n",
    "    print('paper win')\n",
    "elif game=='rock' and game2=='scissor':\n",
    "    print('rock win')\n",
    "elif game=='scissor' and game2=='rock':\n",
    "    print('rock win')\n",
    "elif game=='scissor' and game2=='paper':\n",
    "    print('scissor win')\n",
    "elif game=='paper' and game2=='scissor':\n",
    "    print('scissor win')\n",
    "else:\n",
    "    print('tie')\n"
   ]
  },
  {
   "attachments": {},
   "cell_type": "markdown",
   "metadata": {},
   "source": [
    " game2=='rock'or'scissor'or'paper'"
   ]
  },
  {
   "cell_type": "code",
   "execution_count": 34,
   "metadata": {},
   "outputs": [
    {
     "name": "stdout",
     "output_type": "stream",
     "text": [
      "lets start our game\n",
      "scisssor win\n"
     ]
    }
   ],
   "source": [
    "print(\"lets start our game\")\n",
    "user1=input('choose betn three rock, scissor, paper')\n",
    "game=user1 \n",
    "user2=input('choose betn three rock, scissor, paper')\n",
    "game2=user2\n",
    "if game=='rock' and game2=='rock':\n",
    "    print(\"Tie\")\n",
    "elif (game or game2=='scissor') and (game or game2=='paper'):\n",
    "    print('scisssor win')\n",
    "elif (game or game2=='rock') and (game or game2=='scissor'):\n",
    "    print('rock win')\n",
    "elif (game=='paper') and (game2=='paper'):\n",
    "    print('tie')\n",
    "elif (game=='scissor') and (game2=='scissor'):\n",
    "    print('scissor')\n",
    "elif (game or game2=='paper') and (game or game2=='rock'):\n",
    "    print('paper win')\n",
    "else:\n",
    "    print('you stupid,,doesnt know how to play this game')"
   ]
  }
 ],
 "metadata": {
  "kernelspec": {
   "display_name": "Python 3.10.6 64-bit",
   "language": "python",
   "name": "python3"
  },
  "language_info": {
   "codemirror_mode": {
    "name": "ipython",
    "version": 3
   },
   "file_extension": ".py",
   "mimetype": "text/x-python",
   "name": "python",
   "nbconvert_exporter": "python",
   "pygments_lexer": "ipython3",
   "version": "3.10.6"
  },
  "orig_nbformat": 4,
  "vscode": {
   "interpreter": {
    "hash": "7711ae7ffcbb3f06d9338f8e9cace0fdc828effc08741586593c03f41a106198"
   }
  }
 },
 "nbformat": 4,
 "nbformat_minor": 2
}
