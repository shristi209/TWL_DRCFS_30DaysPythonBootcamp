{
 "cells": [
  {
   "cell_type": "code",
   "execution_count": 1,
   "metadata": {},
   "outputs": [
    {
     "name": "stdout",
     "output_type": "stream",
     "text": [
      "hello world\n"
     ]
    }
   ],
   "source": [
    "print(\"hello world\")"
   ]
  },
  {
   "cell_type": "code",
   "execution_count": 2,
   "metadata": {},
   "outputs": [
    {
     "name": "stdout",
     "output_type": "stream",
     "text": [
      "hiiii\n"
     ]
    }
   ],
   "source": [
    "print(\"hiiii\")"
   ]
  },
  {
   "cell_type": "markdown",
   "metadata": {},
   "source": [
    "input and variables"
   ]
  },
  {
   "cell_type": "code",
   "execution_count": 7,
   "metadata": {},
   "outputs": [
    {
     "name": "stdout",
     "output_type": "stream",
     "text": [
      "hiishristi\n"
     ]
    }
   ],
   "source": [
    "person_name=input(\"what is your name?\")\n",
    "print(\"hii\"+ person_name)"
   ]
  },
  {
   "cell_type": "markdown",
   "metadata": {},
   "source": [
    "##basic data types\n",
    "1)int- integer\n",
    "2)str- string\n",
    "3)float-float\n",
    "4)none-null\n",
    "5)bool- boolean(true,false)"
   ]
  },
  {
   "cell_type": "code",
   "execution_count": 10,
   "metadata": {},
   "outputs": [
    {
     "name": "stdout",
     "output_type": "stream",
     "text": [
      "<class 'int'>\n"
     ]
    }
   ],
   "source": [
    "number=1\n",
    "#print(number)\n",
    "print(type(number))\n",
    "#person=\"shristi\""
   ]
  },
  {
   "cell_type": "code",
   "execution_count": 11,
   "metadata": {},
   "outputs": [
    {
     "name": "stdout",
     "output_type": "stream",
     "text": [
      "<class 'float'>\n"
     ]
    }
   ],
   "source": [
    "number=1.0\n",
    "print(type(number))"
   ]
  },
  {
   "cell_type": "code",
   "execution_count": 13,
   "metadata": {},
   "outputs": [
    {
     "name": "stdout",
     "output_type": "stream",
     "text": [
      "False\n"
     ]
    }
   ],
   "source": [
    "#==boolean\n",
    "print(1==2)"
   ]
  },
  {
   "cell_type": "code",
   "execution_count": 16,
   "metadata": {},
   "outputs": [
    {
     "name": "stdout",
     "output_type": "stream",
     "text": [
      "<class 'float'>\n"
     ]
    }
   ],
   "source": [
    "age=input(\"what is your age?\")\n",
    "#print(age) string vanera aauxa,,, string + string milxa jodna\\\\\\tara int+string hunna\n",
    "age=float(age)\n",
    "print(type(age))"
   ]
  },
  {
   "cell_type": "code",
   "execution_count": 17,
   "metadata": {},
   "outputs": [
    {
     "name": "stdout",
     "output_type": "stream",
     "text": [
      "your age is 14\n"
     ]
    }
   ],
   "source": [
    "age=input(\"what is your age?\")\n",
    "int_age=int(age)\n",
    "\n",
    "print('your age is', str(int_age))  #str is necessary"
   ]
  },
  {
   "cell_type": "markdown",
   "metadata": {},
   "source": [
    "day2"
   ]
  },
  {
   "cell_type": "markdown",
   "metadata": {},
   "source": [
    "control flow statements"
   ]
  },
  {
   "cell_type": "markdown",
   "metadata": {},
   "source": [
    "for driving locense\n",
    "1. input users age\n",
    "2. convert users age to integer\n",
    "3. check if user is older than 16 years old\n",
    "4. if user is older, show he is eligible else he is not"
   ]
  },
  {
   "cell_type": "code",
   "execution_count": 1,
   "metadata": {},
   "outputs": [
    {
     "name": "stdout",
     "output_type": "stream",
     "text": [
      "you are old enough to frive\n"
     ]
    }
   ],
   "source": [
    "#get users age\n",
    "age_str=input(\"what is your age?\")\n",
    "#convert string to integer\n",
    "age=int(age_str)\n",
    "if age>=16:\n",
    "    print('you are old enough to drive')\n",
    "else:\n",
    "    print(\"you are not old enought to drive\")\n",
    "    "
   ]
  },
  {
   "cell_type": "code",
   "execution_count": 2,
   "metadata": {},
   "outputs": [
    {
     "name": "stdout",
     "output_type": "stream",
     "text": [
      "welcome\n"
     ]
    }
   ],
   "source": [
    "#login system\n",
    "username=input(\"name?\")\n",
    "password=input(\"enter password?\")\n",
    "if username=='duck' and password=='passw0rd':\n",
    "    print(\"you logged in\")\n",
    "elif username=='shristi' and password=='123':\n",
    "    print('welcome')\n",
    "else:\n",
    "    print('invalid')\n",
    "\n"
   ]
  }
 ],
 "metadata": {
  "kernelspec": {
   "display_name": "Python 3.10.6 64-bit",
   "language": "python",
   "name": "python3"
  },
  "language_info": {
   "codemirror_mode": {
    "name": "ipython",
    "version": 3
   },
   "file_extension": ".py",
   "mimetype": "text/x-python",
   "name": "python",
   "nbconvert_exporter": "python",
   "pygments_lexer": "ipython3",
   "version": "3.10.6"
  },
  "orig_nbformat": 4,
  "vscode": {
   "interpreter": {
    "hash": "7711ae7ffcbb3f06d9338f8e9cace0fdc828effc08741586593c03f41a106198"
   }
  }
 },
 "nbformat": 4,
 "nbformat_minor": 2
}
